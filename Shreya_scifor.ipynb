{
  "nbformat": 4,
  "nbformat_minor": 0,
  "metadata": {
    "colab": {
      "provenance": []
    },
    "kernelspec": {
      "name": "python3",
      "display_name": "Python 3"
    },
    "language_info": {
      "name": "python"
    }
  },
  "cells": [
    {
      "cell_type": "markdown",
      "source": [
        "Encapsulation in Python involves bundling the data and the methods that operate on the data into a single unit, known as a class. It helps in restricting access to some of an object's components and can prevent the accidental modification of data.\n",
        "\n",
        "\n",
        "We have access modifiers in Python to implement Encapsulation."
      ],
      "metadata": {
        "id": "e-4LcG1bzneM"
      }
    },
    {
      "cell_type": "code",
      "execution_count": 4,
      "metadata": {
        "colab": {
          "base_uri": "https://localhost:8080/"
        },
        "id": "irdaFMggzVDW",
        "outputId": "d8423ce4-8b6d-46fc-ffb0-d2149dd5ae1d"
      },
      "outputs": [
        {
          "output_type": "stream",
          "name": "stdout",
          "text": [
            "Using public tool!\n",
            "Using private tool!\n",
            "Using protected tool!\n"
          ]
        }
      ],
      "source": [
        "#public:\n",
        "class Box:\n",
        "    def __init__(self):\n",
        "        self.public_thing = \"public!\"\n",
        "\n",
        "    def use_tool(self):\n",
        "        print(\"Using public tool!\")\n",
        "my_box = Box()\n",
        "\n",
        "my_box.use_tool()\n",
        "\n",
        "#private\n",
        "class Box:\n",
        "    def __init__(self):\n",
        "        self.__private_thing = \"private!\"\n",
        "\n",
        "    def use_tool(self):\n",
        "        print(\"Using private tool!\")\n",
        "my_box = Box()\n",
        "\n",
        "my_box.use_tool()\n",
        "#protected\n",
        "class Box:\n",
        "    def __init__(self):\n",
        "        self._protected_thing = \"protected!\"\n",
        "\n",
        "    def use_tool(self):\n",
        "        print(\"Using protected tool!\")\n",
        "my_box = Box()\n",
        "\n",
        "my_box.use_tool()"
      ]
    },
    {
      "cell_type": "code",
      "source": [
        "# append(): Adds its argument as a single element to the end of a list.\n",
        "\n",
        "my_list = [1, 2, 3]\n",
        "my_list.append([4, 5])\n",
        "print(my_list)"
      ],
      "metadata": {
        "colab": {
          "base_uri": "https://localhost:8080/"
        },
        "id": "kS8y0eGC0ejs",
        "outputId": "3e92ee4a-8f42-4e94-bbdb-b9c09229c485"
      },
      "execution_count": 5,
      "outputs": [
        {
          "output_type": "stream",
          "name": "stdout",
          "text": [
            "[1, 2, 3, [4, 5]]\n"
          ]
        }
      ]
    },
    {
      "cell_type": "code",
      "source": [
        "# extend(): Iterates over its argument (a sequence) and adds each element to the list, extending the list.\n",
        "\n",
        "my_list = [1, 2, 3]\n",
        "my_list.extend([4, 5])\n",
        "print(my_list)"
      ],
      "metadata": {
        "colab": {
          "base_uri": "https://localhost:8080/"
        },
        "id": "zNEjd7LH0ho1",
        "outputId": "1afe7892-4401-4236-b42b-51d1b80e97cd"
      },
      "execution_count": 7,
      "outputs": [
        {
          "output_type": "stream",
          "name": "stdout",
          "text": [
            "[1, 2, 3, 4, 5]\n"
          ]
        }
      ]
    },
    {
      "cell_type": "code",
      "source": [
        "#with statements open a resource and guarantee that the resource will be closed when the with block completes, regardless of how the block completes.\n",
        "with open('example.txt', 'r') as file:\n",
        "    data = file.read()"
      ],
      "metadata": {
        "id": "-kPQa0Wi09F0"
      },
      "execution_count": null,
      "outputs": []
    },
    {
      "cell_type": "markdown",
      "source": [
        "self is a convention in Python that refers to the instance of the class. It is the first parameter in the definition of a method within a class and is used to refer to the instance variables and other methods of the class."
      ],
      "metadata": {
        "id": "hM43IJLR14KO"
      }
    },
    {
      "cell_type": "code",
      "source": [
        "class MyClass:\n",
        "    def __init__(self, x):\n",
        "        self.x = x\n",
        "\n",
        "    def print_value(self):\n",
        "        print(self.x)\n",
        "\n",
        "obj = MyClass(5)\n",
        "obj.print_value()\n"
      ],
      "metadata": {
        "colab": {
          "base_uri": "https://localhost:8080/"
        },
        "id": "csLGHydV1y3r",
        "outputId": "0ccfd5a9-f431-49b5-fb05-fb27299f3747"
      },
      "execution_count": 8,
      "outputs": [
        {
          "output_type": "stream",
          "name": "stdout",
          "text": [
            "5\n"
          ]
        }
      ]
    },
    {
      "cell_type": "markdown",
      "source": [
        "__slots__ is a mechanism in Python that allows you to explicitly declare the attributes (instance variables) a class can have. It restricts the creation of new attributes at runtime.\n",
        "\n",
        "useful for memory opt"
      ],
      "metadata": {
        "id": "ivOHAKTN2Dnz"
      }
    },
    {
      "cell_type": "code",
      "source": [
        "class MyClass:\n",
        "    __slots__ = ('x', 'y')\n",
        "\n",
        "    def __init__(self, x, y):\n",
        "        self.x = x\n",
        "        self.y = y\n",
        "\n",
        "obj = MyClass(1, 2)\n",
        "obj.z = 3\n",
        "obj.x = 3"
      ],
      "metadata": {
        "colab": {
          "base_uri": "https://localhost:8080/",
          "height": 227
        },
        "id": "Aafy41sY2GKe",
        "outputId": "d4c1fa63-56b0-46f9-847a-d46dfa26d0d6"
      },
      "execution_count": 11,
      "outputs": [
        {
          "output_type": "error",
          "ename": "AttributeError",
          "evalue": "ignored",
          "traceback": [
            "\u001b[0;31m---------------------------------------------------------------------------\u001b[0m",
            "\u001b[0;31mAttributeError\u001b[0m                            Traceback (most recent call last)",
            "\u001b[0;32m<ipython-input-11-d81292260f9b>\u001b[0m in \u001b[0;36m<cell line: 9>\u001b[0;34m()\u001b[0m\n\u001b[1;32m      7\u001b[0m \u001b[0;34m\u001b[0m\u001b[0m\n\u001b[1;32m      8\u001b[0m \u001b[0mobj\u001b[0m \u001b[0;34m=\u001b[0m \u001b[0mMyClass\u001b[0m\u001b[0;34m(\u001b[0m\u001b[0;36m1\u001b[0m\u001b[0;34m,\u001b[0m \u001b[0;36m2\u001b[0m\u001b[0;34m)\u001b[0m\u001b[0;34m\u001b[0m\u001b[0;34m\u001b[0m\u001b[0m\n\u001b[0;32m----> 9\u001b[0;31m \u001b[0mobj\u001b[0m\u001b[0;34m.\u001b[0m\u001b[0mz\u001b[0m \u001b[0;34m=\u001b[0m \u001b[0;36m3\u001b[0m\u001b[0;34m\u001b[0m\u001b[0;34m\u001b[0m\u001b[0m\n\u001b[0m\u001b[1;32m     10\u001b[0m \u001b[0mobj\u001b[0m\u001b[0;34m.\u001b[0m\u001b[0mx\u001b[0m \u001b[0;34m=\u001b[0m \u001b[0;36m3\u001b[0m\u001b[0;34m\u001b[0m\u001b[0;34m\u001b[0m\u001b[0m\n",
            "\u001b[0;31mAttributeError\u001b[0m: 'MyClass' object has no attribute 'z'"
          ]
        }
      ]
    },
    {
      "cell_type": "code",
      "source": [
        "obj.x = 3"
      ],
      "metadata": {
        "id": "qf0CudpZ2P7D"
      },
      "execution_count": 12,
      "outputs": []
    },
    {
      "cell_type": "code",
      "source": [
        "# Instance Variable: Each instance (object) of a class can have different values for instance variables. They are defined inside the constructor using the self keyword.\n",
        "\n",
        "class MyClass:\n",
        "    def __init__(self, x):\n",
        "        self.x = x"
      ],
      "metadata": {
        "id": "W_uC3w7W2RJt"
      },
      "execution_count": 13,
      "outputs": []
    },
    {
      "cell_type": "code",
      "source": [
        "# Class Variable: A class variable is shared among all instances of a class. It is defined outside any method and is shared by all instances of the class.\n",
        "\n",
        "class MyClass:\n",
        "    class_variable = 0\n",
        "\n",
        "    def __init__(self, x):\n",
        "        self.x = x"
      ],
      "metadata": {
        "id": "B-a0eJBK2Yec"
      },
      "execution_count": 14,
      "outputs": []
    },
    {
      "cell_type": "markdown",
      "source": [
        "**Single level inh**"
      ],
      "metadata": {
        "id": "CaBexlZY2kq3"
      }
    },
    {
      "cell_type": "code",
      "source": [
        "# Single-level inheritance involves a parent class and a single child class.\n",
        "\n",
        "# Parent class\n",
        "class Animal:\n",
        "    def speak(self):\n",
        "        print(\"Animal speaks\")\n",
        "\n",
        "# Child class inheriting from Animal\n",
        "class Dog(Animal):\n",
        "    def bark(self):\n",
        "        print(\"Dog barks\")\n",
        "\n",
        "my_dog = Dog()\n",
        "\n",
        "my_dog.speak()\n",
        "my_dog.bark()"
      ],
      "metadata": {
        "colab": {
          "base_uri": "https://localhost:8080/"
        },
        "id": "-6Dhp2a32nj-",
        "outputId": "f09042fc-28da-4adc-bcf3-ce8de3d65937"
      },
      "execution_count": 15,
      "outputs": [
        {
          "output_type": "stream",
          "name": "stdout",
          "text": [
            "Animal speaks\n",
            "Dog barks\n"
          ]
        }
      ]
    },
    {
      "cell_type": "markdown",
      "source": [
        "**Multiple level inh**"
      ],
      "metadata": {
        "id": "rs2XDEIr2t8e"
      }
    },
    {
      "cell_type": "code",
      "source": [
        "# Multiple-level inheritance involves a chain of inheritance with more than two classes.\n",
        "\n",
        "# Grandparent class\n",
        "class Animal:\n",
        "    def speak(self):\n",
        "        print(\"Animal speaks\")\n",
        "\n",
        "# Parent class inheriting from Animal\n",
        "class Dog(Animal):\n",
        "    def bark(self):\n",
        "        print(\"Dog barks\")\n",
        "\n",
        "# Child class inheriting from Dog\n",
        "class Labrador(Dog):\n",
        "    def swim(self):\n",
        "        print(\"Labrador swims\")\n",
        "\n",
        "\n",
        "my_labrador = Labrador()\n",
        "\n",
        "my_labrador.speak()\n",
        "my_labrador.bark()\n",
        "my_labrador.swim()"
      ],
      "metadata": {
        "colab": {
          "base_uri": "https://localhost:8080/"
        },
        "id": "-43n2wEd2zYQ",
        "outputId": "f82c8cf7-1011-4d69-f1b5-ecaf55f82be9"
      },
      "execution_count": 17,
      "outputs": [
        {
          "output_type": "stream",
          "name": "stdout",
          "text": [
            "Animal speaks\n",
            "Dog barks\n",
            "Labrador swims\n"
          ]
        }
      ]
    },
    {
      "cell_type": "markdown",
      "source": [
        "**Multi level inh**"
      ],
      "metadata": {
        "id": "deVtCrGP26Pc"
      }
    },
    {
      "cell_type": "code",
      "source": [
        "# Multi-level inheritance involves more than two levels of inheritance, creating a hierarchy.\n",
        "\n",
        "\n",
        "# Grandparent class\n",
        "class Animal:\n",
        "    def speak(self):\n",
        "        print(\"Animal speaks\")\n",
        "\n",
        "# Parent class inheriting from Animal\n",
        "class Mammal(Animal):\n",
        "    def give_birth(self):\n",
        "        print(\"Mammal gives birth\")\n",
        "\n",
        "# Child class inheriting from Mammal\n",
        "class Dog(Mammal):\n",
        "    def bark(self):\n",
        "        print(\"Dog barks\")\n",
        "\n",
        "my_dog = Dog()\n",
        "\n",
        "my_dog.speak()\n",
        "my_dog.give_birth()\n",
        "my_dog.bark()"
      ],
      "metadata": {
        "colab": {
          "base_uri": "https://localhost:8080/"
        },
        "id": "FivHBPYl3Avj",
        "outputId": "3dfb000f-afa9-48bc-ce0e-c63c677dee96"
      },
      "execution_count": 18,
      "outputs": [
        {
          "output_type": "stream",
          "name": "stdout",
          "text": [
            "Animal speaks\n",
            "Mammal gives birth\n",
            "Dog barks\n"
          ]
        }
      ]
    },
    {
      "cell_type": "markdown",
      "source": [
        "**Hybrid inh**"
      ],
      "metadata": {
        "id": "De9CSq463Gzc"
      }
    },
    {
      "cell_type": "code",
      "source": [
        "# Hybrid inheritance involves a combination of any two or more types of inheritance within a program.\n",
        "\n",
        "# Parent class\n",
        "class Animal:\n",
        "    def speak(self):\n",
        "        print(\"Animal speaks\")\n",
        "\n",
        "# First child class inheriting from Animal\n",
        "class Mammal(Animal):\n",
        "    def give_birth(self):\n",
        "        print(\"Mammal gives birth\")\n",
        "\n",
        "# Second child class inheriting from Mammal\n",
        "class Dog(Mammal):\n",
        "    def bark(self):\n",
        "        print(\"Dog barks\")\n",
        "\n",
        "# Third child class inheriting from Animal (multiple inheritance)\n",
        "class Bird(Animal):\n",
        "    def fly(self):\n",
        "        print(\"Bird flies\")\n",
        "\n",
        "# Fourth child class inheriting from Dog and Bird (multiple inheritance)\n",
        "class Pegasus(Dog, Bird):\n",
        "    def fly_high(self):\n",
        "        print(\"Pegasus flies high\")\n",
        "\n",
        "my_pegasus = Pegasus()\n",
        "\n",
        "my_pegasus.speak()\n",
        "my_pegasus.give_birth()\n",
        "my_pegasus.bark()\n",
        "my_pegasus.fly()\n",
        "my_pegasus.fly_high()"
      ],
      "metadata": {
        "colab": {
          "base_uri": "https://localhost:8080/"
        },
        "id": "d6mi1T733JZD",
        "outputId": "aeddbd5e-c00c-45ba-9012-55e77d7c8e30"
      },
      "execution_count": 19,
      "outputs": [
        {
          "output_type": "stream",
          "name": "stdout",
          "text": [
            "Animal speaks\n",
            "Mammal gives birth\n",
            "Dog barks\n",
            "Bird flies\n",
            "Pegasus flies high\n"
          ]
        }
      ]
    },
    {
      "cell_type": "markdown",
      "source": [
        "# Encapsulation"
      ],
      "metadata": {
        "id": "KbYS6ZYo4Vmf"
      }
    },
    {
      "cell_type": "code",
      "source": [
        "class BankAccount:\n",
        "    def __init__(self, balance=0):\n",
        "        self._balance = balance  # Protected variable\n",
        "\n",
        "    def deposit(self, amount):\n",
        "        if amount > 0:\n",
        "            self._balance += amount\n",
        "\n",
        "    def withdraw(self, amount):\n",
        "        if 0 < amount <= self._balance:\n",
        "            self._balance -= amount\n",
        "\n",
        "    def get_balance(self):\n",
        "        return self._balance\n",
        "\n",
        "\n",
        "account = BankAccount(1000)\n",
        "account.deposit(500)\n",
        "account.withdraw(200)\n",
        "print(\"Current Balance:\", account.get_balance())\n"
      ],
      "metadata": {
        "colab": {
          "base_uri": "https://localhost:8080/"
        },
        "id": "hVf13pZa4Yq5",
        "outputId": "b4a5ac46-128a-4620-8076-77d1a1ae08c3"
      },
      "execution_count": 20,
      "outputs": [
        {
          "output_type": "stream",
          "name": "stdout",
          "text": [
            "Current Balance: 1300\n"
          ]
        }
      ]
    },
    {
      "cell_type": "markdown",
      "source": [
        "# Abstraction"
      ],
      "metadata": {
        "id": "JJrn1P9U4eOV"
      }
    },
    {
      "cell_type": "code",
      "source": [
        "from abc import ABC, abstractmethod\n",
        "\n",
        "class Shape(ABC):\n",
        "    @abstractmethod\n",
        "    def area(self):\n",
        "        pass\n",
        "\n",
        "class Circle(Shape):\n",
        "    def __init__(self, radius):\n",
        "        self.radius = radius\n",
        "\n",
        "    def area(self):\n",
        "        return 3.14 * self.radius * self.radius\n",
        "\n",
        "circle = Circle(5)\n",
        "print(\"Circle Area:\", circle.area())\n"
      ],
      "metadata": {
        "colab": {
          "base_uri": "https://localhost:8080/"
        },
        "id": "cZ5L-SVT4iSU",
        "outputId": "9ce13d89-8f03-4fab-d4ce-df5aaf644497"
      },
      "execution_count": 21,
      "outputs": [
        {
          "output_type": "stream",
          "name": "stdout",
          "text": [
            "Circle Area: 78.5\n"
          ]
        }
      ]
    },
    {
      "cell_type": "markdown",
      "source": [
        "# Polymorphism"
      ],
      "metadata": {
        "id": "Jt1Y0v204loN"
      }
    },
    {
      "cell_type": "code",
      "source": [
        "class Animal:\n",
        "    def make_sound(self):\n",
        "        pass\n",
        "\n",
        "class Dog(Animal):\n",
        "    def make_sound(self):\n",
        "        return \"Woof!\"\n",
        "\n",
        "class Cat(Animal):\n",
        "    def make_sound(self):\n",
        "        return \"Meow!\"\n",
        "\n",
        "\n",
        "def animal_sounds(animal):\n",
        "    return animal.make_sound()\n",
        "\n",
        "dog = Dog()\n",
        "cat = Cat()\n",
        "\n",
        "print(animal_sounds(dog))\n",
        "print(animal_sounds(cat))\n"
      ],
      "metadata": {
        "colab": {
          "base_uri": "https://localhost:8080/"
        },
        "id": "0dTs1TGJ4qNu",
        "outputId": "97db84d2-de88-4624-8150-e3a2d60a0f84"
      },
      "execution_count": 22,
      "outputs": [
        {
          "output_type": "stream",
          "name": "stdout",
          "text": [
            "Woof!\n",
            "Meow!\n"
          ]
        }
      ]
    }
  ]
}